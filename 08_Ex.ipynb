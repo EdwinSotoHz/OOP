{
 "cells": [
  {
   "cell_type": "markdown",
   "id": "7ca69bd2-06a2-4df1-a5dc-3bfd2f0d5807",
   "metadata": {},
   "source": [
    "# Ejercicio 8 de OOP"
   ]
  },
  {
   "cell_type": "markdown",
   "id": "f7d9acff-c28a-4148-b886-093650136d3f",
   "metadata": {},
   "source": [
    "## Clase Point2D\n",
    "- **int x**: Coordenada en x del punto\n",
    "- **int y**: Coordenada en y del punto\n",
    "- **float calculate_distance()**: Calcula la distancia entre 2 puntos y retorna la distancia `return distance`."
   ]
  },
  {
   "cell_type": "code",
   "execution_count": 1,
   "id": "9efcba74-0363-47b2-8fc9-2de75de0be97",
   "metadata": {},
   "outputs": [],
   "source": [
    "from math import sqrt\n",
    "\n",
    "class Point2D:\n",
    "    def __init__(self, x, y):\n",
    "        self.x = x\n",
    "        self.y = y\n",
    "        \n",
    "    def calculate_distance(self, secondPoint):\n",
    "        return sqrt((secondPoint.x - self.x)**2 + (secondPoint.y - self.y)**2)"
   ]
  },
  {
   "cell_type": "code",
   "execution_count": 2,
   "id": "225debc9-e50c-48b6-901a-e0eb9495c5c7",
   "metadata": {},
   "outputs": [
    {
     "name": "stdout",
     "output_type": "stream",
     "text": [
      "6.082762530298219\n"
     ]
    }
   ],
   "source": [
    "a = Point2D(3,4)\n",
    "b = Point2D(9,5)\n",
    "\n",
    "print(a.calculate_distance(b))"
   ]
  }
 ],
 "metadata": {
  "kernelspec": {
   "display_name": "Python 3 (ipykernel)",
   "language": "python",
   "name": "python3"
  },
  "language_info": {
   "codemirror_mode": {
    "name": "ipython",
    "version": 3
   },
   "file_extension": ".py",
   "mimetype": "text/x-python",
   "name": "python",
   "nbconvert_exporter": "python",
   "pygments_lexer": "ipython3",
   "version": "3.11.4"
  }
 },
 "nbformat": 4,
 "nbformat_minor": 5
}
