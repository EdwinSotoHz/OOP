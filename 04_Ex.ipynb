{
 "cells": [
  {
   "cell_type": "markdown",
   "id": "4cabdbed-300b-4e1a-af3b-7eb98d5065ea",
   "metadata": {},
   "source": [
    "# Ejercicio 4 de OOP"
   ]
  },
  {
   "cell_type": "markdown",
   "id": "17c7192d-3d47-4977-bbbc-28208bc06135",
   "metadata": {},
   "source": [
    "<img src=\"./Diagramas_clases/04_overrinding.png\" alt=\"Ex 04\" width=\"500\">"
   ]
  },
  {
   "cell_type": "code",
   "execution_count": 1,
   "id": "b7f27cd0-4292-46ee-898f-b7ab1d4266a1",
   "metadata": {},
   "outputs": [],
   "source": [
    "class Animal:\n",
    "    def __init__(self, name):\n",
    "        self.name = name\n",
    "    \n",
    "    def eat(self):\n",
    "        print(f'Yummy Yummy! estoy comiendo!')\n",
    "        \n",
    "    def make_noise(self):\n",
    "        print(f'Ruido')"
   ]
  },
  {
   "cell_type": "code",
   "execution_count": 2,
   "id": "9108cb23-ef39-4e92-8185-c1c45f9b6670",
   "metadata": {},
   "outputs": [],
   "source": [
    "class Cat(Animal):        \n",
    "    def meow(self):\n",
    "        print(f'Soy un gato, mi nombre es {self.name} y hago meow!')"
   ]
  },
  {
   "cell_type": "code",
   "execution_count": 3,
   "id": "c93062f4-26d0-4cf2-9f4a-77854ee1da4b",
   "metadata": {},
   "outputs": [],
   "source": [
    "class Dog(Animal):\n",
    "    def bark(self):\n",
    "        print(f'Soy un perro, mi nombre es {self.name} y hago woof!')"
   ]
  },
  {
   "cell_type": "code",
   "execution_count": 4,
   "id": "cd7e80cb-67fb-443e-acbb-536344b0ba54",
   "metadata": {},
   "outputs": [
    {
     "name": "stdout",
     "output_type": "stream",
     "text": [
      "Soy un gato, mi nombre es Michu y hago meow!\n",
      "Yummy Yummy! estoy comiendo!\n",
      "Ruido\n",
      "Soy un perro, mi nombre es Firulais y hago woof!\n"
     ]
    }
   ],
   "source": [
    "Michu = Cat(\"Michu\")\n",
    "Michu.meow()\n",
    "Michu.eat()\n",
    "Michu.make_noise()\n",
    "\n",
    "Firulais = Dog(\"Firulais\")\n",
    "Firulais.bark()"
   ]
  }
 ],
 "metadata": {
  "kernelspec": {
   "display_name": "Python 3 (ipykernel)",
   "language": "python",
   "name": "python3"
  },
  "language_info": {
   "codemirror_mode": {
    "name": "ipython",
    "version": 3
   },
   "file_extension": ".py",
   "mimetype": "text/x-python",
   "name": "python",
   "nbconvert_exporter": "python",
   "pygments_lexer": "ipython3",
   "version": "3.12.3"
  }
 },
 "nbformat": 4,
 "nbformat_minor": 5
}
