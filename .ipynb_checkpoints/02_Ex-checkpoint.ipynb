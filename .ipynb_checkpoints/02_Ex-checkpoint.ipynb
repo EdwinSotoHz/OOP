{
 "cells": [
  {
   "cell_type": "markdown",
   "id": "76fc2da0-fc1e-4b9b-ae2d-f2ee0ff0d274",
   "metadata": {},
   "source": [
    "# Ejercicio 2 de OOP"
   ]
  },
  {
   "cell_type": "markdown",
   "id": "3eda043d-7e5f-4fba-aabd-138960c7bb84",
   "metadata": {},
   "source": [
    "<img src=\"./Diagramas_clases/02_herencia.png\" alt=\"Ex 02\" width=\"500\">"
   ]
  },
  {
   "cell_type": "markdown",
   "id": "2421b954-d95b-464d-903f-df19fcc33072",
   "metadata": {},
   "source": [
    "- **void eat():** Imprime 'Yummy Yummy! estoy comiendo'.  \n",
    "- **void meow():** Imprime 'Soy un gato y hago meow!'.\n",
    "- **void bark():** Imprime 'Soy un perro y hago woof!'."
   ]
  },
  {
   "cell_type": "code",
   "execution_count": 1,
   "id": "6bca6d66-fa8b-4214-adab-657ba710d245",
   "metadata": {},
   "outputs": [],
   "source": [
    "class Animal:\n",
    "    def __init__(self, name):\n",
    "        self.name = name\n",
    "    \n",
    "    def eat(self):\n",
    "        print(f'Yummy Yummy! estoy comiendo!')"
   ]
  },
  {
   "cell_type": "code",
   "execution_count": 2,
   "id": "da8179b8-6782-4143-9bae-7d9d9d757178",
   "metadata": {},
   "outputs": [],
   "source": [
    "class Cat(Animal):        \n",
    "    def meow(self):\n",
    "        print(f'Soy un gato, mi nombre es{self.name} y hago meow!')"
   ]
  },
  {
   "cell_type": "code",
   "execution_count": 3,
   "id": "dd08b665-ccf4-4664-8304-a29516a1b48e",
   "metadata": {},
   "outputs": [],
   "source": [
    "class Dog(Animal):\n",
    "    def bark(self):\n",
    "        print(f'Soy un perro, mi nombre es{self.name} y hago woof!')"
   ]
  },
  {
   "cell_type": "code",
   "execution_count": 4,
   "id": "ba0c066d-ff7c-4674-b3c8-3c8937e521b5",
   "metadata": {},
   "outputs": [
    {
     "name": "stdout",
     "output_type": "stream",
     "text": [
      "Soy un gato, mi nombre esMichu y hago meow!\n",
      "Yummy Yummy! estoy comiendo!\n",
      "Soy un perro, mi nombre esFirulais y hago woof!\n",
      "Yummy Yummy! estoy comiendo!\n"
     ]
    }
   ],
   "source": [
    "Michu = Cat(\"Michu\")\n",
    "Firulais = Dog(\"Firulais\")\n",
    "\n",
    "Michu.meow()\n",
    "Michu.eat()\n",
    "Firulais.bark()\n",
    "Firulais.eat()"
   ]
  }
 ],
 "metadata": {
  "kernelspec": {
   "display_name": "Python 3 (ipykernel)",
   "language": "python",
   "name": "python3"
  },
  "language_info": {
   "codemirror_mode": {
    "name": "ipython",
    "version": 3
   },
   "file_extension": ".py",
   "mimetype": "text/x-python",
   "name": "python",
   "nbconvert_exporter": "python",
   "pygments_lexer": "ipython3",
   "version": "3.11.4"
  }
 },
 "nbformat": 4,
 "nbformat_minor": 5
}
