{
 "cells": [
  {
   "cell_type": "markdown",
   "id": "32c251cd-43c9-4acb-838e-58952b6a59fd",
   "metadata": {},
   "source": [
    "# Ejercicio 3 de OOP"
   ]
  },
  {
   "cell_type": "markdown",
   "id": "7888f234-aef0-4ee3-93ed-3be9b8cfeee0",
   "metadata": {},
   "source": [
    "<img src=\"./Diagramas_clases/03_herencia.png\" alt=\"Ex 03\" width=\"500\">"
   ]
  },
  {
   "cell_type": "markdown",
   "id": "f59ef214-869c-4820-aa1d-835678bcb264",
   "metadata": {},
   "source": [
    "## Clase Employee\n",
    "\n",
    "- *int id*: Atributo de instancia. Identificador unico para cada instancia de Employee.\n",
    "- *int new_id*: Atributo de clase. Identificador unico.\n",
    "- *void say_id()*:  Imprime 'Mi id es: {self.id}."
   ]
  },
  {
   "cell_type": "code",
   "execution_count": 1,
   "id": "469152f7-5863-48a6-9a5e-ad6cb56afb76",
   "metadata": {},
   "outputs": [],
   "source": [
    "class Employee:\n",
    "    new_id = 1\n",
    "    \n",
    "    def __init__(self):\n",
    "        self.id = Employee.new_id        \n",
    "        Employee.new_id += 1\n",
    "        \n",
    "    def say_id(self):\n",
    "        print(f'Mi id es {self.id}')"
   ]
  },
  {
   "cell_type": "code",
   "execution_count": 2,
   "id": "a8d133cd-909a-43b7-bf45-5b304d233c31",
   "metadata": {},
   "outputs": [
    {
     "name": "stdout",
     "output_type": "stream",
     "text": [
      "Mi id es 1\n",
      "Mi id es 2\n"
     ]
    }
   ],
   "source": [
    "Savana = Employee()\n",
    "Savana.say_id()\n",
    "\n",
    "Dakota = Employee()\n",
    "Dakota.say_id()"
   ]
  },
  {
   "cell_type": "markdown",
   "id": "00d198e1-94ee-487d-966c-f27ba96c614d",
   "metadata": {},
   "source": [
    "## Clase Admin \n",
    "- **void say_id():** imprime:\n",
    "    - \"Mi id es `{self.id}`\"\n",
    "    - \"Soy administrador\""
   ]
  },
  {
   "cell_type": "code",
   "execution_count": 3,
   "id": "42ee4c8c-9f96-40ba-a887-3c5601427519",
   "metadata": {},
   "outputs": [],
   "source": [
    "class Admin(Employee):\n",
    "    def say_id(self):\n",
    "        super().say_id()\n",
    "        print(\"Soy administrador\")"
   ]
  },
  {
   "cell_type": "code",
   "execution_count": 4,
   "id": "b67fe8fa-90eb-4cce-ba79-20f3d93e36df",
   "metadata": {},
   "outputs": [
    {
     "name": "stdout",
     "output_type": "stream",
     "text": [
      "Mi id es 3\n",
      "Soy administrador\n"
     ]
    }
   ],
   "source": [
    "Juan = Admin()\n",
    "Juan.say_id()"
   ]
  },
  {
   "cell_type": "markdown",
   "id": "dc1f9a4f-565e-4606-b4ca-d7ed2522e551",
   "metadata": {},
   "source": [
    "## Clase Manager\n",
    "- **void say_id():** imprime:\n",
    "    - \"Mi id es `{self.id}`\"\n",
    "    - \"Soy administrador\n",
    "    - \"Estoy a cargo\""
   ]
  },
  {
   "cell_type": "code",
   "execution_count": 5,
   "id": "5d70b510-8cf4-4cb8-a87c-74873d80ccb4",
   "metadata": {},
   "outputs": [],
   "source": [
    "class Manager(Admin):\n",
    "    def say_id(self):\n",
    "        super().say_id()\n",
    "        print(\"Estoy a cargo\")"
   ]
  },
  {
   "cell_type": "code",
   "execution_count": 6,
   "id": "e32c86bd-964e-464a-9c29-05c0c9384ab2",
   "metadata": {},
   "outputs": [
    {
     "name": "stdout",
     "output_type": "stream",
     "text": [
      "Mi id es 4\n",
      "Soy administrador\n",
      "Estoy a cargo\n"
     ]
    }
   ],
   "source": [
    "Eunice = Manager()\n",
    "Eunice.say_id()"
   ]
  }
 ],
 "metadata": {
  "kernelspec": {
   "display_name": "Python 3 (ipykernel)",
   "language": "python",
   "name": "python3"
  },
  "language_info": {
   "codemirror_mode": {
    "name": "ipython",
    "version": 3
   },
   "file_extension": ".py",
   "mimetype": "text/x-python",
   "name": "python",
   "nbconvert_exporter": "python",
   "pygments_lexer": "ipython3",
   "version": "3.11.4"
  }
 },
 "nbformat": 4,
 "nbformat_minor": 5
}
