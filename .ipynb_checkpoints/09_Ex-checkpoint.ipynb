{
 "cells": [
  {
   "cell_type": "markdown",
   "id": "7ca69bd2-06a2-4df1-a5dc-3bfd2f0d5807",
   "metadata": {},
   "source": [
    "# Ejercicio 9 de OOP"
   ]
  },
  {
   "cell_type": "markdown",
   "id": "f7d9acff-c28a-4148-b886-093650136d3f",
   "metadata": {},
   "source": [
    "## Clase Time\n",
    "- **int h**: Horas\n",
    "- **int m**: Minutos\n",
    "- **int s**: Segundos\n",
    "- **float total_seconds()**: Retorna el total de segundos.\n",
    "- **_ _ str_ _**: Imprime la hora en el formato hh:mm:ss"
   ]
  },
  {
   "cell_type": "code",
   "execution_count": null,
   "id": "9efcba74-0363-47b2-8fc9-2de75de0be97",
   "metadata": {},
   "outputs": [],
   "source": [
    "class Time:\n",
    "    def __init__(self, h, m, s):\n",
    "        self.h = h\n",
    "        self.m = m\n",
    "        self.s = s\n",
    "        \n",
    "    def total_seconds(self):\n",
    "        return (self.h * 60 * 60)+(self.m * 60)+(self.s)\n",
    "\n",
    "    def __str__(self):\n",
    "        if(self.h < 10):\n",
    "            self.h = f\"0{self.h}\"\n",
    "        if(self.m < 10):\n",
    "            self.m = f\"0{self.m}\"\n",
    "        if(self.s < 10):\n",
    "            self.s = f\"0{self.s}\"\n",
    "        return f'{self.h}:{self.m}:{self.s}'"
   ]
  },
  {
   "cell_type": "code",
   "execution_count": null,
   "id": "225debc9-e50c-48b6-901a-e0eb9495c5c7",
   "metadata": {},
   "outputs": [],
   "source": [
    "now = Time(2,10,3)\n",
    "print(now.total_seconds())\n",
    "print(now)"
   ]
  }
 ],
 "metadata": {
  "kernelspec": {
   "display_name": "Python 3 (ipykernel)",
   "language": "python",
   "name": "python3"
  },
  "language_info": {
   "codemirror_mode": {
    "name": "ipython",
    "version": 3
   },
   "file_extension": ".py",
   "mimetype": "text/x-python",
   "name": "python",
   "nbconvert_exporter": "python",
   "pygments_lexer": "ipython3",
   "version": "3.11.4"
  }
 },
 "nbformat": 4,
 "nbformat_minor": 5
}
