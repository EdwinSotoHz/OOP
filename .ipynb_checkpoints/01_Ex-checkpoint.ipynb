{
 "cells": [
  {
   "cell_type": "markdown",
   "id": "49e13efe-a924-4a0b-908c-373289a5fbb1",
   "metadata": {},
   "source": [
    "# Ejercicio 1 de OOP"
   ]
  },
  {
   "attachments": {},
   "cell_type": "markdown",
   "id": "d9ecbdb4-ee22-40e5-9c24-88ffe2ef0062",
   "metadata": {},
   "source": [
    "<img src=\"./Diagramas_clases/01_create_class.png\" alt=\"Ex 01\" width=\"500\">"
   ]
  },
  {
   "cell_type": "markdown",
   "id": "24e75fde-f734-4360-aa9f-996ca903dc24",
   "metadata": {},
   "source": [
    "- **int id:** Asigna un identificador unico a cada instancia de `Employee`.  \n",
    "- **int new_id:** Variable global de `Employee`.  \n",
    "- **void say_id():** Imprime `id` de la instancia."
   ]
  },
  {
   "cell_type": "code",
   "execution_count": 17,
   "id": "2e2a841a-521a-442f-a5d6-3f9b50bb543e",
   "metadata": {},
   "outputs": [],
   "source": [
    "class Employee:\n",
    "    new_id = 1\n",
    "\n",
    "    def __init__(self, name, age):\n",
    "        self.id = Employee.new_id\n",
    "        Employee.new_id += 1\n",
    "        self.name = name\n",
    "        self.age = age\n",
    "\n",
    "    def say_id(self):\n",
    "        print(f\"Mi nombre es {self.name} y mi id es {self.id}\")\n",
    "\n",
    "    def say_age(self):\n",
    "        print(f\"Tengo {self.age} años\")"
   ]
  },
  {
   "cell_type": "code",
   "execution_count": 18,
   "id": "9b06b5df-255a-4370-ad81-970193eaf9e8",
   "metadata": {},
   "outputs": [
    {
     "name": "stdout",
     "output_type": "stream",
     "text": [
      "Mi nombre es Savana y mi id es 1\n",
      "Tengo 22 años\n",
      "Mi nombre es Dakota y mi id es 2\n",
      "Tengo 22 años\n"
     ]
    }
   ],
   "source": [
    "Savana = Employee('Savana', 22)\n",
    "Savana.say_id()\n",
    "Savana.say_age()\n",
    "Dakota = Employee('Dakota', 22)\n",
    "Dakota.say_id()\n",
    "Dakota.say_age()"
   ]
  }
 ],
 "metadata": {
  "kernelspec": {
   "display_name": "Python 3 (ipykernel)",
   "language": "python",
   "name": "python3"
  },
  "language_info": {
   "codemirror_mode": {
    "name": "ipython",
    "version": 3
   },
   "file_extension": ".py",
   "mimetype": "text/x-python",
   "name": "python",
   "nbconvert_exporter": "python",
   "pygments_lexer": "ipython3",
   "version": "3.11.4"
  }
 },
 "nbformat": 4,
 "nbformat_minor": 5
}
