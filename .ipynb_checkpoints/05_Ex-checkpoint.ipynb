{
 "cells": [
  {
   "cell_type": "markdown",
   "id": "50ea65dd-4bd9-48c0-8cf4-2ff5134bb06d",
   "metadata": {},
   "source": [
    "# Ejercicio 5 de OOP"
   ]
  },
  {
   "cell_type": "markdown",
   "id": "688449e7-e54d-43e3-abce-9492fcc129b8",
   "metadata": {},
   "source": [
    "<img src=\"./Diagramas_clases/05_herencia_multiple.png\" alt=\"Ex 05\" width=\"500\">"
   ]
  }
 ],
 "metadata": {
  "kernelspec": {
   "display_name": "Python 3 (ipykernel)",
   "language": "python",
   "name": "python3"
  },
  "language_info": {
   "codemirror_mode": {
    "name": "ipython",
    "version": 3
   },
   "file_extension": ".py",
   "mimetype": "text/x-python",
   "name": "python",
   "nbconvert_exporter": "python",
   "pygments_lexer": "ipython3",
   "version": "3.11.4"
  }
 },
 "nbformat": 4,
 "nbformat_minor": 5
}
