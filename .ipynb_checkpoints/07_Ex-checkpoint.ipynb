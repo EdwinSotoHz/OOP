{
 "cells": [
  {
   "cell_type": "markdown",
   "id": "7ca69bd2-06a2-4df1-a5dc-3bfd2f0d5807",
   "metadata": {},
   "source": [
    "# Ejercicio 7 de OOP"
   ]
  },
  {
   "cell_type": "markdown",
   "id": "f7d9acff-c28a-4148-b886-093650136d3f",
   "metadata": {},
   "source": [
    "## Clase Persona\n",
    "- **str name**: Nombre de la persona\n",
    "- **str lastName**: Apellido paterno de la persona\n",
    "- **str secondLastName**: Apellido materno de la persona\n",
    "- **str say_my_name()**: Retorna 'Mi nombre es: `{self.name}` `{self.lastName}` `{self.secondLastName}` '."
   ]
  },
  {
   "cell_type": "code",
   "execution_count": 1,
   "id": "9efcba74-0363-47b2-8fc9-2de75de0be97",
   "metadata": {},
   "outputs": [],
   "source": [
    "class Employee:\n",
    "    new_id = 1\n",
    "    \n",
    "    def __init__(self):\n",
    "        self.id = Employee.new_id        \n",
    "        Employee.new_id += 1\n",
    "        \n",
    "    def say_id(self):\n",
    "        print(f'Mi id es {self.id}')"
   ]
  },
  {
   "cell_type": "code",
   "execution_count": 2,
   "id": "225debc9-e50c-48b6-901a-e0eb9495c5c7",
   "metadata": {},
   "outputs": [
    {
     "name": "stdout",
     "output_type": "stream",
     "text": [
      "Mi id es 1\n"
     ]
    }
   ],
   "source": [
    "Empleado1 = Employee()\n",
    "\n",
    "Empleado1.say_id()"
   ]
  },
  {
   "cell_type": "code",
   "execution_count": 3,
   "id": "53218263-d822-450a-89c2-b33347de3933",
   "metadata": {},
   "outputs": [],
   "source": [
    "class User:\n",
    "    def __init__(self, role, username):\n",
    "        self.role = role\n",
    "        self.username = username\n",
    "        \n",
    "    def say_user_info(self):\n",
    "        print(f'Mi nombre es {self.username} y soy {self.role}.')"
   ]
  },
  {
   "cell_type": "code",
   "execution_count": 4,
   "id": "f72039f3-fa2e-4dad-a812-d402cd9adc6c",
   "metadata": {},
   "outputs": [
    {
     "name": "stdout",
     "output_type": "stream",
     "text": [
      "Mi nombre es Dan y soy Usuario.\n",
      "Mi nombre es Edwin y soy Administrador.\n"
     ]
    }
   ],
   "source": [
    "User1 = User(\"Usuario\", \"Dan\")\n",
    "User2 = User(\"Administrador\", \"Edwin\")\n",
    "\n",
    "User1.say_user_info()\n",
    "User2.say_user_info()"
   ]
  },
  {
   "cell_type": "code",
   "execution_count": 5,
   "id": "8b96b6d9-4965-4489-96d5-4eb61f865899",
   "metadata": {},
   "outputs": [],
   "source": [
    "class Admin(Employee, User):\n",
    "    def __init__(self, username):\n",
    "        #constructor llamar a la clase del padre 1 y 2\n",
    "        super().__init__()\n",
    "        User.__init__(self, \"Administrador\", username)\n",
    "        \n",
    "    def say_id(self):\n",
    "        super().say_id()\n",
    "        print('Soy un Administrador \\(0-0)/')\n",
    "        #print(self.username)"
   ]
  },
  {
   "cell_type": "code",
   "execution_count": 6,
   "id": "96af99c2-2443-48d1-b4dc-9d130cc14cce",
   "metadata": {},
   "outputs": [
    {
     "name": "stdout",
     "output_type": "stream",
     "text": [
      "Mi id es 2\n",
      "Soy un Administrador \\(0-0)/\n"
     ]
    }
   ],
   "source": [
    "admini = Admin(\"Edwin2\")\n",
    "admini.say_id()"
   ]
  },
  {
   "cell_type": "code",
   "execution_count": 7,
   "id": "8356d54d-6ab7-485b-98e7-8581fe187330",
   "metadata": {},
   "outputs": [],
   "source": [
    "class Manager(Admin):\n",
    "    def say_id(self):\n",
    "        super().say_id()\n",
    "        print('Y estoy al mando')"
   ]
  },
  {
   "cell_type": "code",
   "execution_count": 8,
   "id": "41ddcbfc-a20e-45f8-9060-830381dc2440",
   "metadata": {},
   "outputs": [
    {
     "name": "stdout",
     "output_type": "stream",
     "text": [
      "Mi id es 3\n",
      "Soy un Administrador \\(0-0)/\n",
      "Y estoy al mando\n"
     ]
    }
   ],
   "source": [
    "manager = Manager(\"Edwin3\")\n",
    "manager.say_id()"
   ]
  },
  {
   "cell_type": "code",
   "execution_count": 12,
   "id": "2a54f3a3-9ea3-4929-83eb-d9d69f61afdf",
   "metadata": {},
   "outputs": [],
   "source": [
    "class Persona:\n",
    "    def __init__(self, name, lastName, secondLastName):\n",
    "        self.name = name\n",
    "        self.lastName = lastName\n",
    "        self.secondLastName = secondLastName\n",
    "\n",
    "    def __str__(self): #under double score methods (dunder methods) (__str__ es uno)\n",
    "        return f'Mi nombre es: {self.name} {self.lastName} {self.secondLastName}'.title()\n"
   ]
  },
  {
   "cell_type": "code",
   "execution_count": 10,
   "id": "40e29baa-a0ba-48f6-bfdb-0e9c5b989190",
   "metadata": {},
   "outputs": [
    {
     "name": "stdout",
     "output_type": "stream",
     "text": [
      "Mi Nombre Es: Edwin Soto Hernandez\n"
     ]
    }
   ],
   "source": [
    "Edwin = Persona(\"EdwIN\", \"soto\", \"HERNANDEZ\")\n",
    "print(Edwin)"
   ]
  }
 ],
 "metadata": {
  "kernelspec": {
   "display_name": "Python 3 (ipykernel)",
   "language": "python",
   "name": "python3"
  },
  "language_info": {
   "codemirror_mode": {
    "name": "ipython",
    "version": 3
   },
   "file_extension": ".py",
   "mimetype": "text/x-python",
   "name": "python",
   "nbconvert_exporter": "python",
   "pygments_lexer": "ipython3",
   "version": "3.11.4"
  }
 },
 "nbformat": 4,
 "nbformat_minor": 5
}
