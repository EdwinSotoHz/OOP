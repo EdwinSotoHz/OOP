{
 "cells": [
  {
   "cell_type": "markdown",
   "id": "4cabdbed-300b-4e1a-af3b-7eb98d5065ea",
   "metadata": {},
   "source": [
    "# Ejercicio 4 de OOP"
   ]
  },
  {
   "cell_type": "markdown",
   "id": "17c7192d-3d47-4977-bbbc-28208bc06135",
   "metadata": {},
   "source": [
    "<img src=\"./Diagramas_clases/04_overrinding.png\" alt=\"Ex 04\" width=\"500\">"
   ]
  },
  {
   "cell_type": "markdown",
   "id": "32ae30b2-a619-4cbc-a3e4-932fe755256d",
   "metadata": {},
   "source": [
    "## Clase Animal\n",
    "- **str name**: Atributo de instancia. Nombre del animal.\n",
    "- **void eat()**: Imprime 'Yummy yummy! estoy comiendo.'.\n",
    "- **void make_noise()**: Imprime '{self.name} hace Grrrr!.'."
   ]
  },
  {
   "cell_type": "code",
   "execution_count": 10,
   "id": "b7f27cd0-4292-46ee-898f-b7ab1d4266a1",
   "metadata": {},
   "outputs": [],
   "source": [
    "class Animal:\n",
    "    def __init__(self, name):\n",
    "        self.name = name\n",
    "    \n",
    "    def eat(self):\n",
    "        print(f'Yummy Yummy! estoy comiendo!')\n",
    "        \n",
    "    def make_noise(self):\n",
    "        print(f'{self.name} hace Grrrr!.')"
   ]
  },
  {
   "cell_type": "code",
   "execution_count": 13,
   "id": "e1c68030-eaac-411e-991f-3ffa37a6c4c9",
   "metadata": {},
   "outputs": [
    {
     "name": "stdout",
     "output_type": "stream",
     "text": [
      "Yummy Yummy! estoy comiendo!\n",
      "Negro hace Grrrr!.\n"
     ]
    }
   ],
   "source": [
    "Negro = Animal('Negro')\n",
    "Negro.eat()\n",
    "Negro.make_noise()"
   ]
  },
  {
   "cell_type": "markdown",
   "id": "edf01706-0231-42e8-a756-0adfca95f4a0",
   "metadata": {},
   "source": [
    "## Clase Cat\n",
    "- **void make_noise()**: Imprime '{self.name} hace Rrrrrr!.'.\n",
    "- **void meow()**: \"Imprime 'Soy un gato y hago Meow!.\"."
   ]
  },
  {
   "cell_type": "code",
   "execution_count": 15,
   "id": "9108cb23-ef39-4e92-8185-c1c45f9b6670",
   "metadata": {},
   "outputs": [],
   "source": [
    "class Cat(Animal):        \n",
    "    def make_noise(self):\n",
    "        print(f'{self.name} hace Rrrrr!.')\n",
    "        \n",
    "    def meow(self):\n",
    "        print(f'Soy un gato y hago Meow!')"
   ]
  },
  {
   "cell_type": "code",
   "execution_count": 16,
   "id": "c0d4bbd4-6025-4624-9917-8f846d99d2ca",
   "metadata": {},
   "outputs": [
    {
     "name": "stdout",
     "output_type": "stream",
     "text": [
      "Yummy Yummy! estoy comiendo!\n",
      "Michu hace Rrrrr!.\n",
      "Soy un gato y hago Meow!\n"
     ]
    }
   ],
   "source": [
    "Michu = Cat(\"Michu\")\n",
    "Michu.eat()\n",
    "Michu.make_noise()\n",
    "Michu.meow()"
   ]
  },
  {
   "cell_type": "markdown",
   "id": "70da495b-438d-470c-952a-413fc18c2aa6",
   "metadata": {},
   "source": [
    "## Clase Dog\n",
    "- **void bark()**: Imprime 'Soy un perro y hago woof woof!'."
   ]
  },
  {
   "cell_type": "code",
   "execution_count": 20,
   "id": "c93062f4-26d0-4cf2-9f4a-77854ee1da4b",
   "metadata": {},
   "outputs": [],
   "source": [
    "class Dog(Animal):\n",
    "    def bark(self):\n",
    "        print(f'Soy un perro y hago woof woof!')"
   ]
  },
  {
   "cell_type": "code",
   "execution_count": 24,
   "id": "cd7e80cb-67fb-443e-acbb-536344b0ba54",
   "metadata": {},
   "outputs": [
    {
     "name": "stdout",
     "output_type": "stream",
     "text": [
      "Yummy Yummy! estoy comiendo!\n",
      "Soy un perro y hago woof woof!\n",
      "Firulais hace Grrrr!.\n"
     ]
    }
   ],
   "source": [
    "Firulais = Dog(\"Firulais\")\n",
    "Firulais.eat()\n",
    "Firulais.bark()\n",
    "Firulais.make_noise()"
   ]
  }
 ],
 "metadata": {
  "kernelspec": {
   "display_name": "Python 3 (ipykernel)",
   "language": "python",
   "name": "python3"
  },
  "language_info": {
   "codemirror_mode": {
    "name": "ipython",
    "version": 3
   },
   "file_extension": ".py",
   "mimetype": "text/x-python",
   "name": "python",
   "nbconvert_exporter": "python",
   "pygments_lexer": "ipython3",
   "version": "3.11.4"
  }
 },
 "nbformat": 4,
 "nbformat_minor": 5
}
