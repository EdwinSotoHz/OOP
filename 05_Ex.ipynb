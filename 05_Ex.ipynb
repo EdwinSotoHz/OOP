{
 "cells": [
  {
   "cell_type": "markdown",
   "id": "50ea65dd-4bd9-48c0-8cf4-2ff5134bb06d",
   "metadata": {},
   "source": [
    "# Ejercicio 5 de OOP"
   ]
  },
  {
   "cell_type": "markdown",
   "id": "688449e7-e54d-43e3-abce-9492fcc129b8",
   "metadata": {},
   "source": [
    "<img src=\"./Diagramas_clases/05_herencia_multiple.png\" alt=\"Ex 05\" width=\"500\">"
   ]
  },
  {
   "cell_type": "code",
   "execution_count": 1,
   "id": "eac15321-a799-4c74-a778-869f0bb7b64c",
   "metadata": {},
   "outputs": [],
   "source": [
    "class Animal:\n",
    "    def __init__(self, name):\n",
    "        self.name = name\n",
    "    \n",
    "    def eat(self):\n",
    "        print(f'Yummy Yummy! estoy comiendo!')\n",
    "        \n",
    "    def make_noise(self):\n",
    "        print(f'Ruido')"
   ]
  },
  {
   "cell_type": "code",
   "execution_count": 2,
   "id": "010ce067-43fb-4972-b1ae-a9418df6b0c8",
   "metadata": {},
   "outputs": [],
   "source": [
    "class Cat(Animal):        \n",
    "    def meow(self):\n",
    "        print(f'Soy un gato, mi nombre es {self.name} y hago meow!')"
   ]
  },
  {
   "cell_type": "code",
   "execution_count": 3,
   "id": "01d84cf2-f1e0-4fcc-85a5-b27e75d45b74",
   "metadata": {},
   "outputs": [],
   "source": [
    "class Dog(Animal):\n",
    "    def bark(self):\n",
    "        print(f'Soy un perro, mi nombre es {self.name} y hago woof!')\n",
    "\n",
    "    def action(self):\n",
    "        print('Ladra')"
   ]
  },
  {
   "cell_type": "code",
   "execution_count": 4,
   "id": "68e75cd2-ea5e-4016-80b1-3c56fc60a74f",
   "metadata": {},
   "outputs": [],
   "source": [
    "class Wolf(Animal):\n",
    "    def action(self):\n",
    "        print('Aullido')"
   ]
  },
  {
   "cell_type": "code",
   "execution_count": 5,
   "id": "661b6a04-28da-4999-9b6f-aef8ef2b92e7",
   "metadata": {},
   "outputs": [],
   "source": [
    "class Hybrid(Dog, Wolf):\n",
    "    def action(self):\n",
    "        Dog.action(self)\n",
    "        Wolf.action()"
   ]
  },
  {
   "cell_type": "code",
   "execution_count": 6,
   "id": "615901ca-b107-44f5-8f10-dfa351f40df9",
   "metadata": {},
   "outputs": [
    {
     "name": "stdout",
     "output_type": "stream",
     "text": [
      "Soy un gato, mi nombre es Michu y hago meow!\n",
      "Yummy Yummy! estoy comiendo!\n",
      "Ruido\n",
      "Soy un perro, mi nombre es Firulais y hago woof!\n",
      "Yummy Yummy! estoy comiendo!\n",
      "Ladra\n",
      "Yummy Yummy! estoy comiendo!\n",
      "Aullido\n",
      "Yummy Yummy! estoy comiendo!\n",
      "Ladra\n",
      "Aullido\n"
     ]
    }
   ],
   "source": [
    "Michu = Cat(\"Michu\")\n",
    "Michu.meow()\n",
    "Michu.eat()\n",
    "Michu.make_noise()\n",
    "\n",
    "Firulais = Dog(\"Firulais\")\n",
    "Firulais.bark()\n",
    "Firulais.eat()\n",
    "Firulais.action()\n",
    "\n",
    "Wolf = Wolf(\"Wolf\")\n",
    "Wolf.eat()\n",
    "Wolf.action()\n",
    "\n",
    "Hyb = Hybrid(\"Hib\")\n",
    "Hyb.eat()\n",
    "Hyb.action()"
   ]
  }
 ],
 "metadata": {
  "kernelspec": {
   "display_name": "Python 3 (ipykernel)",
   "language": "python",
   "name": "python3"
  },
  "language_info": {
   "codemirror_mode": {
    "name": "ipython",
    "version": 3
   },
   "file_extension": ".py",
   "mimetype": "text/x-python",
   "name": "python",
   "nbconvert_exporter": "python",
   "pygments_lexer": "ipython3",
   "version": "3.12.3"
  }
 },
 "nbformat": 4,
 "nbformat_minor": 5
}
