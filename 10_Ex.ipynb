{
 "cells": [
  {
   "cell_type": "markdown",
   "id": "7ca69bd2-06a2-4df1-a5dc-3bfd2f0d5807",
   "metadata": {},
   "source": [
    "# Ejercicio 10 de OOP"
   ]
  },
  {
   "cell_type": "markdown",
   "id": "f7d9acff-c28a-4148-b886-093650136d3f",
   "metadata": {},
   "source": [
    "## Clase Time\n",
    "- **int h**: Horas\n",
    "- **int m**: Minutos\n",
    "- **int s**: Segundos\n",
    "- **float total_seconds()**: Retorna el total de segundos.\n",
    "- **_ _ str_ _**: Imprime la hora en el formato hh:mm:ss"
   ]
  },
  {
   "cell_type": "code",
   "execution_count": 1,
   "id": "07c2a622-1a9b-436b-b8ab-6d90fc04a8a8",
   "metadata": {},
   "outputs": [],
   "source": [
    "# Frecuencia absoluta\n",
    "def frecAbs(lstDatos):\n",
    "    clase, frecAbs = [], []\n",
    "    for element in lstDatos:\n",
    "        if(element not in clase):\n",
    "            clase.append(element)\n",
    "            frecAbs.append(1)\n",
    "        else:\n",
    "            frecAbs[clase.index(element)] += 1\n",
    "    return clase, frecAbs"
   ]
  },
  {
   "cell_type": "code",
   "execution_count": 2,
   "id": "1cfb074a-bc28-4730-aa87-0ba21862d9c2",
   "metadata": {},
   "outputs": [],
   "source": [
    "from math import sqrt\n",
    "\n",
    "class FreqTable:\n",
    "    def __init__(self):\n",
    "        self.count = {}\n",
    "        \n",
    "    def add(self, newKey):\n",
    "        if(newKey not in self.count.keys()):\n",
    "            self.count[newKey] = 1\n",
    "        else:\n",
    "            self.count[newKey] += 1\n",
    "\n",
    "    def countKey(self, key):\n",
    "        print(self.count[key])"
   ]
  },
  {
   "cell_type": "code",
   "execution_count": 6,
   "id": "225debc9-e50c-48b6-901a-e0eb9495c5c7",
   "metadata": {},
   "outputs": [
    {
     "name": "stdout",
     "output_type": "stream",
     "text": [
      "1 2\n",
      "2 1\n",
      "3 4\n",
      "4\n"
     ]
    }
   ],
   "source": [
    "table = FreqTable()\n",
    "\n",
    "table.add(1)\n",
    "table.add(1)\n",
    "table.add(2)\n",
    "table.add(3)\n",
    "table.add(3)\n",
    "table.add(3)\n",
    "table.add(3)\n",
    "for key, value in table.count.items():\n",
    "    print(key, value)\n",
    "\n",
    "table.countKey(3)"
   ]
  }
 ],
 "metadata": {
  "kernelspec": {
   "display_name": "Python 3 (ipykernel)",
   "language": "python",
   "name": "python3"
  },
  "language_info": {
   "codemirror_mode": {
    "name": "ipython",
    "version": 3
   },
   "file_extension": ".py",
   "mimetype": "text/x-python",
   "name": "python",
   "nbconvert_exporter": "python",
   "pygments_lexer": "ipython3",
   "version": "3.11.4"
  }
 },
 "nbformat": 4,
 "nbformat_minor": 5
}
