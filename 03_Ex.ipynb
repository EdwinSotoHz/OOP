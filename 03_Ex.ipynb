{
 "cells": [
  {
   "cell_type": "markdown",
   "id": "32c251cd-43c9-4acb-838e-58952b6a59fd",
   "metadata": {},
   "source": [
    "# Ejercicio 3 de OOP"
   ]
  },
  {
   "cell_type": "markdown",
   "id": "7888f234-aef0-4ee3-93ed-3be9b8cfeee0",
   "metadata": {},
   "source": [
    "<img src=\"./Diagramas_clases/03_herencia.png\" alt=\"Ex 03\" width=\"500\">"
   ]
  },
  {
   "cell_type": "code",
   "execution_count": 1,
   "id": "469152f7-5863-48a6-9a5e-ad6cb56afb76",
   "metadata": {},
   "outputs": [],
   "source": [
    "class Employee:\n",
    "    new_id = 1\n",
    "\n",
    "    def __init__(self):\n",
    "        self.id = Employee.new_id\n",
    "        Employee.new_id += 1\n",
    "\n",
    "    def say_id(self):\n",
    "        print(f\"Mi id es {self.id}\")"
   ]
  },
  {
   "cell_type": "code",
   "execution_count": 2,
   "id": "a8d133cd-909a-43b7-bf45-5b304d233c31",
   "metadata": {},
   "outputs": [],
   "source": [
    "class Admin(Employee):        \n",
    "    pass"
   ]
  },
  {
   "cell_type": "code",
   "execution_count": 3,
   "id": "5257fb8c-2a52-4430-bf74-3f5eb666eba8",
   "metadata": {},
   "outputs": [],
   "source": [
    "class Manager(Admin):        \n",
    "    pass"
   ]
  },
  {
   "cell_type": "code",
   "execution_count": 4,
   "id": "f3bc3641-4115-4e79-a7b3-d8a68578bf9b",
   "metadata": {},
   "outputs": [
    {
     "name": "stdout",
     "output_type": "stream",
     "text": [
      "Mi id es 1\n",
      "Mi id es 2\n",
      "Mi id es 3\n"
     ]
    }
   ],
   "source": [
    "Empleado = Employee()\n",
    "Empleado.say_id()\n",
    "Admin = Admin()\n",
    "Admin.say_id()\n",
    "Manager = Manager()\n",
    "Manager.say_id()"
   ]
  }
 ],
 "metadata": {
  "kernelspec": {
   "display_name": "Python 3 (ipykernel)",
   "language": "python",
   "name": "python3"
  },
  "language_info": {
   "codemirror_mode": {
    "name": "ipython",
    "version": 3
   },
   "file_extension": ".py",
   "mimetype": "text/x-python",
   "name": "python",
   "nbconvert_exporter": "python",
   "pygments_lexer": "ipython3",
   "version": "3.12.3"
  }
 },
 "nbformat": 4,
 "nbformat_minor": 5
}
